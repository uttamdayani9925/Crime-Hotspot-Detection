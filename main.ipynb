{
 "cells": [
  {
   "cell_type": "markdown",
   "metadata": {},
   "source": [
    "<div style=\"\n",
    "        background-color: #2c3e50;\n",
    "        font-family: 'Arial', sans-serif;\n",
    "        color: #ecf0f1;\n",
    "        font-size: 2em;\n",
    "        text-align: center;\n",
    "        border-radius: 25px;\n",
    "        padding: 20px;\n",
    "        margin: 20px auto;\n",
    "        width: 80%;\n",
    "        box-shadow: 0 4px 8px rgba(0, 0, 0, 0.1);\n",
    "    \">\n",
    "        Capstone Project | 🚨 Crime Hotspot Detection 🚨\n",
    "    </div>"
   ]
  },
  {
   "cell_type": "markdown",
   "metadata": {},
   "source": [
    "<div style=\"\n",
    "        background-color: #cf77e6;\n",
    "        font-family: 'Arial', sans-serif;\n",
    "        color: #000;\n",
    "        font-size: 20px;\n",
    "        text-align: left;\n",
    "        font-weight:bold;\n",
    "        border-radius: 10px;\n",
    "        padding: 20px;\n",
    "        width:90%;\n",
    "        box-shadow: 0 4px 8px rgba(0, 0, 0, 0.1);\n",
    "    \">\n",
    "        Import Libraries\n",
    "    </div>"
   ]
  },
  {
   "cell_type": "code",
   "execution_count": 1,
   "metadata": {},
   "outputs": [],
   "source": [
    "import pandas as pd \n",
    "from sklearn.model_selection import train_test_split \n",
    "from sklearn.preprocessing import StandardScaler, LabelEncoder \n",
    "from sklearn.ensemble import RandomForestClassifier \n",
    "from sklearn.metrics import accuracy_score, precision_score, recall_score, f1_score \n",
    "from sklearn.metrics import mean_absolute_error, r2_score\n",
    "from sklearn.linear_model import LinearRegression \n",
    "from sklearn.tree import DecisionTreeRegressor\n",
    "from sklearn.ensemble import RandomForestRegressor\n",
    "\n",
    "import numpy as np\n",
    "import joblib "
   ]
  },
  {
   "cell_type": "markdown",
   "metadata": {},
   "source": [
    "<div style=\"\n",
    "        background-color: #cf77e6;\n",
    "        font-family: 'Arial', sans-serif;\n",
    "        color: #000;\n",
    "        font-weight:bold;\n",
    "        font-size: 20px;\n",
    "        text-align: left;\n",
    "        border-radius: 10px;\n",
    "        padding: 20px;\n",
    "        width:90%;\n",
    "        box-shadow: 0 4px 8px rgba(0, 0, 0, 0.1);\n",
    "    \">\n",
    "        Loading the Dataset\n",
    "    </div>"
   ]
  },
  {
   "cell_type": "code",
   "execution_count": 2,
   "metadata": {},
   "outputs": [],
   "source": [
    "df = pd.read_csv('data_set.csv')"
   ]
  },
  {
   "cell_type": "code",
   "execution_count": 3,
   "metadata": {},
   "outputs": [
    {
     "data": {
      "text/html": [
       "<div>\n",
       "<style scoped>\n",
       "    .dataframe tbody tr th:only-of-type {\n",
       "        vertical-align: middle;\n",
       "    }\n",
       "\n",
       "    .dataframe tbody tr th {\n",
       "        vertical-align: top;\n",
       "    }\n",
       "\n",
       "    .dataframe thead th {\n",
       "        text-align: right;\n",
       "    }\n",
       "</style>\n",
       "<table border=\"1\" class=\"dataframe\">\n",
       "  <thead>\n",
       "    <tr style=\"text-align: right;\">\n",
       "      <th></th>\n",
       "      <th>DR_NO</th>\n",
       "      <th>Date Rptd</th>\n",
       "      <th>DATE OCC</th>\n",
       "      <th>TIME OCC</th>\n",
       "      <th>AREA</th>\n",
       "      <th>AREA NAME</th>\n",
       "      <th>Rpt Dist No</th>\n",
       "      <th>Part 1-2</th>\n",
       "      <th>Crm Cd</th>\n",
       "      <th>Crm Cd Desc</th>\n",
       "      <th>...</th>\n",
       "      <th>Status</th>\n",
       "      <th>Status Desc</th>\n",
       "      <th>Crm Cd 1</th>\n",
       "      <th>Crm Cd 2</th>\n",
       "      <th>Crm Cd 3</th>\n",
       "      <th>Crm Cd 4</th>\n",
       "      <th>LOCATION</th>\n",
       "      <th>Cross Street</th>\n",
       "      <th>LAT</th>\n",
       "      <th>LON</th>\n",
       "    </tr>\n",
       "  </thead>\n",
       "  <tbody>\n",
       "    <tr>\n",
       "      <th>0</th>\n",
       "      <td>190326475</td>\n",
       "      <td>03/01/2020 12:00:00 AM</td>\n",
       "      <td>03/01/2020 12:00:00 AM</td>\n",
       "      <td>2130</td>\n",
       "      <td>7</td>\n",
       "      <td>Wilshire</td>\n",
       "      <td>784</td>\n",
       "      <td>1</td>\n",
       "      <td>510</td>\n",
       "      <td>VEHICLE - STOLEN</td>\n",
       "      <td>...</td>\n",
       "      <td>AA</td>\n",
       "      <td>Adult Arrest</td>\n",
       "      <td>510.0</td>\n",
       "      <td>998.0</td>\n",
       "      <td>NaN</td>\n",
       "      <td>NaN</td>\n",
       "      <td>1900 S  LONGWOOD                     AV</td>\n",
       "      <td>NaN</td>\n",
       "      <td>34.0375</td>\n",
       "      <td>-118.3506</td>\n",
       "    </tr>\n",
       "    <tr>\n",
       "      <th>1</th>\n",
       "      <td>200106753</td>\n",
       "      <td>02/09/2020 12:00:00 AM</td>\n",
       "      <td>02/08/2020 12:00:00 AM</td>\n",
       "      <td>1800</td>\n",
       "      <td>1</td>\n",
       "      <td>Central</td>\n",
       "      <td>182</td>\n",
       "      <td>1</td>\n",
       "      <td>330</td>\n",
       "      <td>BURGLARY FROM VEHICLE</td>\n",
       "      <td>...</td>\n",
       "      <td>IC</td>\n",
       "      <td>Invest Cont</td>\n",
       "      <td>330.0</td>\n",
       "      <td>998.0</td>\n",
       "      <td>NaN</td>\n",
       "      <td>NaN</td>\n",
       "      <td>1000 S  FLOWER                       ST</td>\n",
       "      <td>NaN</td>\n",
       "      <td>34.0444</td>\n",
       "      <td>-118.2628</td>\n",
       "    </tr>\n",
       "    <tr>\n",
       "      <th>2</th>\n",
       "      <td>200320258</td>\n",
       "      <td>11/11/2020 12:00:00 AM</td>\n",
       "      <td>11/04/2020 12:00:00 AM</td>\n",
       "      <td>1700</td>\n",
       "      <td>3</td>\n",
       "      <td>Southwest</td>\n",
       "      <td>356</td>\n",
       "      <td>1</td>\n",
       "      <td>480</td>\n",
       "      <td>BIKE - STOLEN</td>\n",
       "      <td>...</td>\n",
       "      <td>IC</td>\n",
       "      <td>Invest Cont</td>\n",
       "      <td>480.0</td>\n",
       "      <td>NaN</td>\n",
       "      <td>NaN</td>\n",
       "      <td>NaN</td>\n",
       "      <td>1400 W  37TH                         ST</td>\n",
       "      <td>NaN</td>\n",
       "      <td>34.0210</td>\n",
       "      <td>-118.3002</td>\n",
       "    </tr>\n",
       "    <tr>\n",
       "      <th>3</th>\n",
       "      <td>200907217</td>\n",
       "      <td>05/10/2023 12:00:00 AM</td>\n",
       "      <td>03/10/2020 12:00:00 AM</td>\n",
       "      <td>2037</td>\n",
       "      <td>9</td>\n",
       "      <td>Van Nuys</td>\n",
       "      <td>964</td>\n",
       "      <td>1</td>\n",
       "      <td>343</td>\n",
       "      <td>SHOPLIFTING-GRAND THEFT ($950.01 &amp; OVER)</td>\n",
       "      <td>...</td>\n",
       "      <td>IC</td>\n",
       "      <td>Invest Cont</td>\n",
       "      <td>343.0</td>\n",
       "      <td>NaN</td>\n",
       "      <td>NaN</td>\n",
       "      <td>NaN</td>\n",
       "      <td>14000    RIVERSIDE                    DR</td>\n",
       "      <td>NaN</td>\n",
       "      <td>34.1576</td>\n",
       "      <td>-118.4387</td>\n",
       "    </tr>\n",
       "    <tr>\n",
       "      <th>4</th>\n",
       "      <td>220614831</td>\n",
       "      <td>08/18/2022 12:00:00 AM</td>\n",
       "      <td>08/17/2020 12:00:00 AM</td>\n",
       "      <td>1200</td>\n",
       "      <td>6</td>\n",
       "      <td>Hollywood</td>\n",
       "      <td>666</td>\n",
       "      <td>2</td>\n",
       "      <td>354</td>\n",
       "      <td>THEFT OF IDENTITY</td>\n",
       "      <td>...</td>\n",
       "      <td>IC</td>\n",
       "      <td>Invest Cont</td>\n",
       "      <td>354.0</td>\n",
       "      <td>NaN</td>\n",
       "      <td>NaN</td>\n",
       "      <td>NaN</td>\n",
       "      <td>1900    TRANSIENT</td>\n",
       "      <td>NaN</td>\n",
       "      <td>34.0944</td>\n",
       "      <td>-118.3277</td>\n",
       "    </tr>\n",
       "  </tbody>\n",
       "</table>\n",
       "<p>5 rows × 28 columns</p>\n",
       "</div>"
      ],
      "text/plain": [
       "       DR_NO               Date Rptd                DATE OCC  TIME OCC  AREA  \\\n",
       "0  190326475  03/01/2020 12:00:00 AM  03/01/2020 12:00:00 AM      2130     7   \n",
       "1  200106753  02/09/2020 12:00:00 AM  02/08/2020 12:00:00 AM      1800     1   \n",
       "2  200320258  11/11/2020 12:00:00 AM  11/04/2020 12:00:00 AM      1700     3   \n",
       "3  200907217  05/10/2023 12:00:00 AM  03/10/2020 12:00:00 AM      2037     9   \n",
       "4  220614831  08/18/2022 12:00:00 AM  08/17/2020 12:00:00 AM      1200     6   \n",
       "\n",
       "   AREA NAME  Rpt Dist No  Part 1-2  Crm Cd  \\\n",
       "0   Wilshire          784         1     510   \n",
       "1    Central          182         1     330   \n",
       "2  Southwest          356         1     480   \n",
       "3   Van Nuys          964         1     343   \n",
       "4  Hollywood          666         2     354   \n",
       "\n",
       "                                Crm Cd Desc  ... Status   Status Desc  \\\n",
       "0                          VEHICLE - STOLEN  ...     AA  Adult Arrest   \n",
       "1                     BURGLARY FROM VEHICLE  ...     IC   Invest Cont   \n",
       "2                             BIKE - STOLEN  ...     IC   Invest Cont   \n",
       "3  SHOPLIFTING-GRAND THEFT ($950.01 & OVER)  ...     IC   Invest Cont   \n",
       "4                         THEFT OF IDENTITY  ...     IC   Invest Cont   \n",
       "\n",
       "  Crm Cd 1 Crm Cd 2  Crm Cd 3 Crm Cd 4  \\\n",
       "0    510.0    998.0       NaN      NaN   \n",
       "1    330.0    998.0       NaN      NaN   \n",
       "2    480.0      NaN       NaN      NaN   \n",
       "3    343.0      NaN       NaN      NaN   \n",
       "4    354.0      NaN       NaN      NaN   \n",
       "\n",
       "                                   LOCATION Cross Street      LAT       LON  \n",
       "0   1900 S  LONGWOOD                     AV          NaN  34.0375 -118.3506  \n",
       "1   1000 S  FLOWER                       ST          NaN  34.0444 -118.2628  \n",
       "2   1400 W  37TH                         ST          NaN  34.0210 -118.3002  \n",
       "3  14000    RIVERSIDE                    DR          NaN  34.1576 -118.4387  \n",
       "4                         1900    TRANSIENT          NaN  34.0944 -118.3277  \n",
       "\n",
       "[5 rows x 28 columns]"
      ]
     },
     "execution_count": 3,
     "metadata": {},
     "output_type": "execute_result"
    }
   ],
   "source": [
    "df.head()"
   ]
  },
  {
   "cell_type": "markdown",
   "metadata": {},
   "source": [
    "<div style=\"\n",
    "        background-color: #cf77e6;\n",
    "        font-family: 'Arial', sans-serif;\n",
    "        color: #000;\n",
    "        font-weight:bold;\n",
    "        font-size: 20px;\n",
    "        text-align: left;\n",
    "        border-radius: 10px;\n",
    "        padding: 20px;\n",
    "        width:90%;\n",
    "        box-shadow: 0 4px 8px rgba(0, 0, 0, 0.1);\n",
    "    \">\n",
    "        Data Preprocessing\n",
    "    </div>"
   ]
  },
  {
   "cell_type": "code",
   "execution_count": 4,
   "metadata": {},
   "outputs": [],
   "source": [
    "df = df[['Date Rptd', 'DATE OCC', 'TIME OCC', 'AREA NAME', 'Rpt Dist No', 'Crm Cd', 'LAT', 'LON', 'Crm Cd Desc']]"
   ]
  },
  {
   "cell_type": "code",
   "execution_count": 5,
   "metadata": {},
   "outputs": [
    {
     "name": "stdout",
     "output_type": "stream",
     "text": [
      "<class 'pandas.core.frame.DataFrame'>\n",
      "RangeIndex: 901357 entries, 0 to 901356\n",
      "Data columns (total 9 columns):\n",
      " #   Column       Non-Null Count   Dtype  \n",
      "---  ------       --------------   -----  \n",
      " 0   Date Rptd    901357 non-null  object \n",
      " 1   DATE OCC     901357 non-null  object \n",
      " 2   TIME OCC     901357 non-null  int64  \n",
      " 3   AREA NAME    901357 non-null  object \n",
      " 4   Rpt Dist No  901357 non-null  int64  \n",
      " 5   Crm Cd       901357 non-null  int64  \n",
      " 6   LAT          901357 non-null  float64\n",
      " 7   LON          901357 non-null  float64\n",
      " 8   Crm Cd Desc  901357 non-null  object \n",
      "dtypes: float64(2), int64(3), object(4)\n",
      "memory usage: 61.9+ MB\n"
     ]
    }
   ],
   "source": [
    "df.info()"
   ]
  },
  {
   "cell_type": "code",
   "execution_count": 6,
   "metadata": {},
   "outputs": [
    {
     "data": {
      "text/plain": [
       "Date Rptd      0\n",
       "DATE OCC       0\n",
       "TIME OCC       0\n",
       "AREA NAME      0\n",
       "Rpt Dist No    0\n",
       "Crm Cd         0\n",
       "LAT            0\n",
       "LON            0\n",
       "Crm Cd Desc    0\n",
       "dtype: int64"
      ]
     },
     "execution_count": 6,
     "metadata": {},
     "output_type": "execute_result"
    }
   ],
   "source": [
    "df.isnull().sum()"
   ]
  },
  {
   "cell_type": "code",
   "execution_count": 7,
   "metadata": {},
   "outputs": [
    {
     "data": {
      "text/html": [
       "<div>\n",
       "<style scoped>\n",
       "    .dataframe tbody tr th:only-of-type {\n",
       "        vertical-align: middle;\n",
       "    }\n",
       "\n",
       "    .dataframe tbody tr th {\n",
       "        vertical-align: top;\n",
       "    }\n",
       "\n",
       "    .dataframe thead th {\n",
       "        text-align: right;\n",
       "    }\n",
       "</style>\n",
       "<table border=\"1\" class=\"dataframe\">\n",
       "  <thead>\n",
       "    <tr style=\"text-align: right;\">\n",
       "      <th></th>\n",
       "      <th>TIME OCC</th>\n",
       "      <th>Rpt Dist No</th>\n",
       "      <th>Crm Cd</th>\n",
       "      <th>LAT</th>\n",
       "      <th>LON</th>\n",
       "    </tr>\n",
       "  </thead>\n",
       "  <tbody>\n",
       "    <tr>\n",
       "      <th>count</th>\n",
       "      <td>901357.000000</td>\n",
       "      <td>901357.000000</td>\n",
       "      <td>901357.000000</td>\n",
       "      <td>901357.000000</td>\n",
       "      <td>901357.000000</td>\n",
       "    </tr>\n",
       "    <tr>\n",
       "      <th>mean</th>\n",
       "      <td>1336.869943</td>\n",
       "      <td>1116.280358</td>\n",
       "      <td>500.841333</td>\n",
       "      <td>33.988170</td>\n",
       "      <td>-118.056984</td>\n",
       "    </tr>\n",
       "    <tr>\n",
       "      <th>std</th>\n",
       "      <td>653.074344</td>\n",
       "      <td>610.216590</td>\n",
       "      <td>207.636640</td>\n",
       "      <td>1.708768</td>\n",
       "      <td>5.923780</td>\n",
       "    </tr>\n",
       "    <tr>\n",
       "      <th>min</th>\n",
       "      <td>1.000000</td>\n",
       "      <td>101.000000</td>\n",
       "      <td>110.000000</td>\n",
       "      <td>0.000000</td>\n",
       "      <td>-118.667600</td>\n",
       "    </tr>\n",
       "    <tr>\n",
       "      <th>25%</th>\n",
       "      <td>900.000000</td>\n",
       "      <td>589.000000</td>\n",
       "      <td>331.000000</td>\n",
       "      <td>34.014500</td>\n",
       "      <td>-118.429600</td>\n",
       "    </tr>\n",
       "    <tr>\n",
       "      <th>50%</th>\n",
       "      <td>1415.000000</td>\n",
       "      <td>1141.000000</td>\n",
       "      <td>442.000000</td>\n",
       "      <td>34.058600</td>\n",
       "      <td>-118.321500</td>\n",
       "    </tr>\n",
       "    <tr>\n",
       "      <th>75%</th>\n",
       "      <td>1900.000000</td>\n",
       "      <td>1614.000000</td>\n",
       "      <td>626.000000</td>\n",
       "      <td>34.163400</td>\n",
       "      <td>-118.273900</td>\n",
       "    </tr>\n",
       "    <tr>\n",
       "      <th>max</th>\n",
       "      <td>2359.000000</td>\n",
       "      <td>2199.000000</td>\n",
       "      <td>956.000000</td>\n",
       "      <td>34.334300</td>\n",
       "      <td>0.000000</td>\n",
       "    </tr>\n",
       "  </tbody>\n",
       "</table>\n",
       "</div>"
      ],
      "text/plain": [
       "            TIME OCC    Rpt Dist No         Crm Cd            LAT  \\\n",
       "count  901357.000000  901357.000000  901357.000000  901357.000000   \n",
       "mean     1336.869943    1116.280358     500.841333      33.988170   \n",
       "std       653.074344     610.216590     207.636640       1.708768   \n",
       "min         1.000000     101.000000     110.000000       0.000000   \n",
       "25%       900.000000     589.000000     331.000000      34.014500   \n",
       "50%      1415.000000    1141.000000     442.000000      34.058600   \n",
       "75%      1900.000000    1614.000000     626.000000      34.163400   \n",
       "max      2359.000000    2199.000000     956.000000      34.334300   \n",
       "\n",
       "                 LON  \n",
       "count  901357.000000  \n",
       "mean     -118.056984  \n",
       "std         5.923780  \n",
       "min      -118.667600  \n",
       "25%      -118.429600  \n",
       "50%      -118.321500  \n",
       "75%      -118.273900  \n",
       "max         0.000000  "
      ]
     },
     "execution_count": 7,
     "metadata": {},
     "output_type": "execute_result"
    }
   ],
   "source": [
    "df.describe()"
   ]
  },
  {
   "cell_type": "code",
   "execution_count": 8,
   "metadata": {},
   "outputs": [
    {
     "name": "stderr",
     "output_type": "stream",
     "text": [
      "C:\\Users\\Uttam Dayani\\AppData\\Local\\Temp\\ipykernel_22468\\1910313247.py:2: UserWarning: Could not infer format, so each element will be parsed individually, falling back to `dateutil`. To ensure parsing is consistent and as-expected, please specify a format.\n",
      "  df['Date Rptd'] = pd.to_datetime(df['Date Rptd'])\n",
      "C:\\Users\\Uttam Dayani\\AppData\\Local\\Temp\\ipykernel_22468\\1910313247.py:3: UserWarning: Could not infer format, so each element will be parsed individually, falling back to `dateutil`. To ensure parsing is consistent and as-expected, please specify a format.\n",
      "  df['DATE OCC'] = pd.to_datetime(df['DATE OCC'])\n"
     ]
    }
   ],
   "source": [
    "# Convert date columns to datetime\n",
    "df['Date Rptd'] = pd.to_datetime(df['Date Rptd'])\n",
    "df['DATE OCC'] = pd.to_datetime(df['DATE OCC'])"
   ]
  },
  {
   "cell_type": "code",
   "execution_count": 9,
   "metadata": {},
   "outputs": [],
   "source": [
    "# Extract additional features from date columns\n",
    "df['Rpt_Year'] = df['Date Rptd'].dt.year\n",
    "df['Occ_Year'] = df['DATE OCC'].dt.year\n",
    "df['Occ_Month'] = df['DATE OCC'].dt.month\n",
    "df['Occ_Day'] = df['DATE OCC'].dt.day"
   ]
  },
  {
   "cell_type": "code",
   "execution_count": 10,
   "metadata": {},
   "outputs": [],
   "source": [
    "# Drop original date columns\n",
    "df = df.drop(columns=['Date Rptd', 'DATE OCC'])"
   ]
  },
  {
   "cell_type": "markdown",
   "metadata": {},
   "source": [
    "<div style=\"\n",
    "        background-color: #cf77e6;\n",
    "        font-family: 'Arial', sans-serif;\n",
    "        color: #000;\n",
    "        font-weight:bold;\n",
    "        font-size: 20px;\n",
    "        text-align: left;\n",
    "        border-radius: 10px;\n",
    "        padding: 20px;\n",
    "        width:90%;\n",
    "        box-shadow: 0 4px 8px rgba(0, 0, 0, 0.1);\n",
    "    \">\n",
    "        Exploratory Data Analysis (EDA)\n",
    "    </div>"
   ]
  },
  {
   "cell_type": "code",
   "execution_count": 11,
   "metadata": {},
   "outputs": [],
   "source": [
    "# One-hot encoding for categorical features\n",
    "df = pd.get_dummies(df, columns=['AREA NAME', 'Crm Cd'], drop_first=True)"
   ]
  },
  {
   "cell_type": "code",
   "execution_count": 12,
   "metadata": {},
   "outputs": [],
   "source": [
    "# Drop rows with missing values\n",
    "df = df.dropna()"
   ]
  },
  {
   "cell_type": "code",
   "execution_count": 13,
   "metadata": {},
   "outputs": [
    {
     "data": {
      "text/html": [
       "<div>\n",
       "<style scoped>\n",
       "    .dataframe tbody tr th:only-of-type {\n",
       "        vertical-align: middle;\n",
       "    }\n",
       "\n",
       "    .dataframe tbody tr th {\n",
       "        vertical-align: top;\n",
       "    }\n",
       "\n",
       "    .dataframe thead th {\n",
       "        text-align: right;\n",
       "    }\n",
       "</style>\n",
       "<table border=\"1\" class=\"dataframe\">\n",
       "  <thead>\n",
       "    <tr style=\"text-align: right;\">\n",
       "      <th></th>\n",
       "      <th>TIME OCC</th>\n",
       "      <th>Rpt Dist No</th>\n",
       "      <th>LAT</th>\n",
       "      <th>LON</th>\n",
       "      <th>Crm Cd Desc</th>\n",
       "      <th>Rpt_Year</th>\n",
       "      <th>Occ_Year</th>\n",
       "      <th>Occ_Month</th>\n",
       "      <th>Occ_Day</th>\n",
       "      <th>AREA NAME_Central</th>\n",
       "      <th>...</th>\n",
       "      <th>Crm Cd_942</th>\n",
       "      <th>Crm Cd_943</th>\n",
       "      <th>Crm Cd_944</th>\n",
       "      <th>Crm Cd_946</th>\n",
       "      <th>Crm Cd_948</th>\n",
       "      <th>Crm Cd_949</th>\n",
       "      <th>Crm Cd_950</th>\n",
       "      <th>Crm Cd_951</th>\n",
       "      <th>Crm Cd_954</th>\n",
       "      <th>Crm Cd_956</th>\n",
       "    </tr>\n",
       "  </thead>\n",
       "  <tbody>\n",
       "    <tr>\n",
       "      <th>0</th>\n",
       "      <td>2130</td>\n",
       "      <td>784</td>\n",
       "      <td>34.0375</td>\n",
       "      <td>-118.3506</td>\n",
       "      <td>VEHICLE - STOLEN</td>\n",
       "      <td>2020</td>\n",
       "      <td>2020</td>\n",
       "      <td>3</td>\n",
       "      <td>1</td>\n",
       "      <td>False</td>\n",
       "      <td>...</td>\n",
       "      <td>False</td>\n",
       "      <td>False</td>\n",
       "      <td>False</td>\n",
       "      <td>False</td>\n",
       "      <td>False</td>\n",
       "      <td>False</td>\n",
       "      <td>False</td>\n",
       "      <td>False</td>\n",
       "      <td>False</td>\n",
       "      <td>False</td>\n",
       "    </tr>\n",
       "    <tr>\n",
       "      <th>1</th>\n",
       "      <td>1800</td>\n",
       "      <td>182</td>\n",
       "      <td>34.0444</td>\n",
       "      <td>-118.2628</td>\n",
       "      <td>BURGLARY FROM VEHICLE</td>\n",
       "      <td>2020</td>\n",
       "      <td>2020</td>\n",
       "      <td>2</td>\n",
       "      <td>8</td>\n",
       "      <td>True</td>\n",
       "      <td>...</td>\n",
       "      <td>False</td>\n",
       "      <td>False</td>\n",
       "      <td>False</td>\n",
       "      <td>False</td>\n",
       "      <td>False</td>\n",
       "      <td>False</td>\n",
       "      <td>False</td>\n",
       "      <td>False</td>\n",
       "      <td>False</td>\n",
       "      <td>False</td>\n",
       "    </tr>\n",
       "    <tr>\n",
       "      <th>2</th>\n",
       "      <td>1700</td>\n",
       "      <td>356</td>\n",
       "      <td>34.0210</td>\n",
       "      <td>-118.3002</td>\n",
       "      <td>BIKE - STOLEN</td>\n",
       "      <td>2020</td>\n",
       "      <td>2020</td>\n",
       "      <td>11</td>\n",
       "      <td>4</td>\n",
       "      <td>False</td>\n",
       "      <td>...</td>\n",
       "      <td>False</td>\n",
       "      <td>False</td>\n",
       "      <td>False</td>\n",
       "      <td>False</td>\n",
       "      <td>False</td>\n",
       "      <td>False</td>\n",
       "      <td>False</td>\n",
       "      <td>False</td>\n",
       "      <td>False</td>\n",
       "      <td>False</td>\n",
       "    </tr>\n",
       "    <tr>\n",
       "      <th>3</th>\n",
       "      <td>2037</td>\n",
       "      <td>964</td>\n",
       "      <td>34.1576</td>\n",
       "      <td>-118.4387</td>\n",
       "      <td>SHOPLIFTING-GRAND THEFT ($950.01 &amp; OVER)</td>\n",
       "      <td>2023</td>\n",
       "      <td>2020</td>\n",
       "      <td>3</td>\n",
       "      <td>10</td>\n",
       "      <td>False</td>\n",
       "      <td>...</td>\n",
       "      <td>False</td>\n",
       "      <td>False</td>\n",
       "      <td>False</td>\n",
       "      <td>False</td>\n",
       "      <td>False</td>\n",
       "      <td>False</td>\n",
       "      <td>False</td>\n",
       "      <td>False</td>\n",
       "      <td>False</td>\n",
       "      <td>False</td>\n",
       "    </tr>\n",
       "    <tr>\n",
       "      <th>4</th>\n",
       "      <td>1200</td>\n",
       "      <td>666</td>\n",
       "      <td>34.0944</td>\n",
       "      <td>-118.3277</td>\n",
       "      <td>THEFT OF IDENTITY</td>\n",
       "      <td>2022</td>\n",
       "      <td>2020</td>\n",
       "      <td>8</td>\n",
       "      <td>17</td>\n",
       "      <td>False</td>\n",
       "      <td>...</td>\n",
       "      <td>False</td>\n",
       "      <td>False</td>\n",
       "      <td>False</td>\n",
       "      <td>False</td>\n",
       "      <td>False</td>\n",
       "      <td>False</td>\n",
       "      <td>False</td>\n",
       "      <td>False</td>\n",
       "      <td>False</td>\n",
       "      <td>False</td>\n",
       "    </tr>\n",
       "  </tbody>\n",
       "</table>\n",
       "<p>5 rows × 167 columns</p>\n",
       "</div>"
      ],
      "text/plain": [
       "   TIME OCC  Rpt Dist No      LAT       LON  \\\n",
       "0      2130          784  34.0375 -118.3506   \n",
       "1      1800          182  34.0444 -118.2628   \n",
       "2      1700          356  34.0210 -118.3002   \n",
       "3      2037          964  34.1576 -118.4387   \n",
       "4      1200          666  34.0944 -118.3277   \n",
       "\n",
       "                                Crm Cd Desc  Rpt_Year  Occ_Year  Occ_Month  \\\n",
       "0                          VEHICLE - STOLEN      2020      2020          3   \n",
       "1                     BURGLARY FROM VEHICLE      2020      2020          2   \n",
       "2                             BIKE - STOLEN      2020      2020         11   \n",
       "3  SHOPLIFTING-GRAND THEFT ($950.01 & OVER)      2023      2020          3   \n",
       "4                         THEFT OF IDENTITY      2022      2020          8   \n",
       "\n",
       "   Occ_Day  AREA NAME_Central  ...  Crm Cd_942  Crm Cd_943  Crm Cd_944  \\\n",
       "0        1              False  ...       False       False       False   \n",
       "1        8               True  ...       False       False       False   \n",
       "2        4              False  ...       False       False       False   \n",
       "3       10              False  ...       False       False       False   \n",
       "4       17              False  ...       False       False       False   \n",
       "\n",
       "   Crm Cd_946  Crm Cd_948  Crm Cd_949  Crm Cd_950  Crm Cd_951  Crm Cd_954  \\\n",
       "0       False       False       False       False       False       False   \n",
       "1       False       False       False       False       False       False   \n",
       "2       False       False       False       False       False       False   \n",
       "3       False       False       False       False       False       False   \n",
       "4       False       False       False       False       False       False   \n",
       "\n",
       "   Crm Cd_956  \n",
       "0       False  \n",
       "1       False  \n",
       "2       False  \n",
       "3       False  \n",
       "4       False  \n",
       "\n",
       "[5 rows x 167 columns]"
      ]
     },
     "execution_count": 13,
     "metadata": {},
     "output_type": "execute_result"
    }
   ],
   "source": [
    "df.head()"
   ]
  },
  {
   "cell_type": "code",
   "execution_count": 14,
   "metadata": {},
   "outputs": [
    {
     "name": "stdout",
     "output_type": "stream",
     "text": [
      "Index(['TIME OCC', 'Rpt Dist No', 'LAT', 'LON', 'Crm Cd Desc', 'Rpt_Year',\n",
      "       'Occ_Year', 'Occ_Month', 'Occ_Day', 'AREA NAME_Central',\n",
      "       ...\n",
      "       'Crm Cd_942', 'Crm Cd_943', 'Crm Cd_944', 'Crm Cd_946', 'Crm Cd_948',\n",
      "       'Crm Cd_949', 'Crm Cd_950', 'Crm Cd_951', 'Crm Cd_954', 'Crm Cd_956'],\n",
      "      dtype='object', length=167)\n"
     ]
    }
   ],
   "source": [
    "print(df.columns)"
   ]
  },
  {
   "cell_type": "markdown",
   "metadata": {},
   "source": [
    "<div style=\"\n",
    "        background-color: #cf77e6;\n",
    "        font-family: 'Arial', sans-serif;\n",
    "        color: #000;\n",
    "        font-weight:bold;\n",
    "        font-size: 20px;\n",
    "        text-align: left;\n",
    "        border-radius: 10px;\n",
    "        padding: 20px;\n",
    "        width:90%;\n",
    "        box-shadow: 0 4px 8px rgba(0, 0, 0, 0.1);\n",
    "    \">\n",
    "        Plotting\n",
    "    </div>"
   ]
  },
  {
   "cell_type": "code",
   "execution_count": 15,
   "metadata": {},
   "outputs": [
    {
     "data": {
      "image/png": "[encoded data removed]",
      "text/plain": [
       "<Figure size 1200x600 with 1 Axes>"
      ]
     },
     "metadata": {},
     "output_type": "display_data"
    }
   ],
   "source": [
    "import matplotlib.pyplot as plt\n",
    "\n",
    "# Plot crime count by year\n",
    "plt.figure(figsize=(12, 6))\n",
    "df['Rpt_Year'].value_counts().sort_index().plot(kind='bar')\n",
    "plt.title('Crime Count by Year')\n",
    "plt.xlabel('Year')\n",
    "plt.ylabel('Crime Count')\n",
    "plt.xticks(rotation=0)\n",
    "plt.show()"
   ]
  },
  {
   "cell_type": "code",
   "execution_count": 16,
   "metadata": {},
   "outputs": [
    {
     "data": {
      "image/png": "[encoded data removed]",
      "text/plain": [
       "<Figure size 1200x600 with 1 Axes>"
      ]
     },
     "metadata": {},
     "output_type": "display_data"
    }
   ],
   "source": [
    "# Plot crime count by month\n",
    "plt.figure(figsize=(12, 6))\n",
    "df['Occ_Month'].value_counts().sort_index().plot(kind='bar')\n",
    "plt.title('Crime Count by Month')\n",
    "plt.xlabel('Month')\n",
    "plt.ylabel('Crime Count')\n",
    "plt.xticks(rotation=0)\n",
    "plt.show()\n"
   ]
  },
  {
   "cell_type": "code",
   "execution_count": 17,
   "metadata": {},
   "outputs": [
    {
     "data": {
      "image/png": "[encoded data removed]",
      "text/plain": [
       "<Figure size 1200x600 with 1 Axes>"
      ]
     },
     "metadata": {},
     "output_type": "display_data"
    }
   ],
   "source": [
    "# Plot crime count by day of the week\n",
    "plt.figure(figsize=(12, 6))\n",
    "df['Occ_Day'].value_counts().sort_index().plot(kind='bar')\n",
    "plt.title('Crime Count by Day of the Week')\n",
    "plt.xlabel('Day of the Week')\n",
    "plt.ylabel('Crime Count')\n",
    "plt.xticks(rotation=0)\n",
    "plt.show()\n"
   ]
  },
  {
   "cell_type": "markdown",
   "metadata": {},
   "source": [
    "<div style=\"\n",
    "        background-color: #cf77e6;\n",
    "        font-family: 'Arial', sans-serif;\n",
    "        color: #000;\n",
    "        font-weight:bold;\n",
    "        font-size: 20px;\n",
    "        text-align: left;\n",
    "        border-radius: 10px;\n",
    "        padding: 20px;\n",
    "        width:90%;\n",
    "        box-shadow: 0 4px 8px rgba(0, 0, 0, 0.1);\n",
    "    \">\n",
    "        Encoding the Target Variable\n",
    "    </div>"
   ]
  },
  {
   "cell_type": "code",
   "execution_count": 18,
   "metadata": {},
   "outputs": [],
   "source": [
    "# Encode the target variable (crime descriptions)\n",
    "label_encoder = LabelEncoder()\n",
    "df['Crm Cd Desc'] = label_encoder.fit_transform(df['Crm Cd Desc'])"
   ]
  },
  {
   "cell_type": "code",
   "execution_count": 19,
   "metadata": {},
   "outputs": [],
   "source": [
    "# Splitting Features and Target Variable:\n",
    "# X (Features), y (Target Variable)\n",
    "\n",
    "X = df.drop(columns=['Crm Cd Desc'])\n",
    "y = df['Crm Cd Desc']"
   ]
  },
  {
   "cell_type": "markdown",
   "metadata": {},
   "source": [
    "<div style=\"\n",
    "        background-color: #cf77e6;\n",
    "        font-family: 'Arial', sans-serif;\n",
    "        color: #000;\n",
    "        font-weight:bold;\n",
    "        font-size: 20px;\n",
    "        text-align: left;\n",
    "        border-radius: 10px;\n",
    "        padding: 20px;\n",
    "        width:90%;\n",
    "        box-shadow: 0 4px 8px rgba(0, 0, 0, 0.1);\n",
    "    \">\n",
    "        Train-Test Split and Scaling\n",
    "    </div>"
   ]
  },
  {
   "cell_type": "code",
   "execution_count": 20,
   "metadata": {},
   "outputs": [],
   "source": [
    "X_train, X_test, y_train, y_test = train_test_split(X, y, test_size=0.2, random_state=42)"
   ]
  },
  {
   "cell_type": "code",
   "execution_count": 21,
   "metadata": {},
   "outputs": [],
   "source": [
    "# Scale the features\n",
    "scaler = StandardScaler()\n",
    "X_train_scaled = scaler.fit_transform(X_train)\n",
    "X_test_scaled = scaler.transform(X_test)\n"
   ]
  },
  {
   "cell_type": "markdown",
   "metadata": {},
   "source": [
    "<div style=\"\n",
    "        background-color: #cf77e6;\n",
    "        font-family: 'Arial', sans-serif;\n",
    "        color: #000;\n",
    "        font-weight:bold;\n",
    "        font-size: 20px;\n",
    "        text-align: left;\n",
    "        border-radius: 10px;\n",
    "        padding: 20px;\n",
    "        width:90%;\n",
    "        box-shadow: 0 4px 8px rgba(0, 0, 0, 0.1);\n",
    "    \">\n",
    "        Model Training and Evaluation\n",
    "    </div>"
   ]
  },
  {
   "cell_type": "code",
   "execution_count": 23,
   "metadata": {},
   "outputs": [],
   "source": [
    "# model selection Linear Regression, Decision Tree Regression amd Random Forest Regression.\n",
    "models = {\n",
    "    \"Linear Regression\": LinearRegression(),\n",
    "    \"Decision Tree Regression\": DecisionTreeRegressor(random_state=42),\n",
    "    \"Random Forest Regression\": RandomForestRegressor(random_state=42)\n",
    "}"
   ]
  },
  {
   "cell_type": "code",
   "execution_count": 26,
   "metadata": {},
   "outputs": [
    {
     "name": "stdout",
     "output_type": "stream",
     "text": [
      "Linear Regression Results:\n",
      "R^2 Score: 1.0\n",
      "Mean Absolute Error: 6.149855138711906e-13\n",
      "Accuracy within : 99.73%\n",
      "\n",
      "Decision Tree Regressor Results:\n",
      "R^2 Score: 1.0\n",
      "Mean Absolute Error: 0.0\n",
      "Accuracy within : 99.73%\n",
      "\n",
      "Random Forest Regressor Results:\n",
      "R^2 Score: 0.9999999654181795\n",
      "Mean Absolute Error: 4.548681991657057e-05\n",
      "Accuracy within : 99.73%\n",
      "\n"
     ]
    }
   ],
   "source": [
    "# Initialize the model\n",
    "# Train and evaluate each model\n",
    "for name, model in models.items():\n",
    "    model.fit(X_train_scaled, y_train)  # Train the model\n",
    "    y_pred = model.predict(X_test_scaled)  # Predict on test data\n",
    "    # Calculate evaluation metrics\n",
    "    r2 = r2_score(y_test, y_pred)  # R^2 score\n",
    "    mae = mean_absolute_error(y_test, y_pred)  # mean\n",
    "    tolerance = 0.10\n",
    "    accuracy_within_tolerance = np.mean(np.abs((y_pred - y_test) / y_test) < tolerance)\n",
    "    # Print results\n",
    "    print(f\"{name} Results:\")\n",
    "    print(f\"R^2 Score: {r2}\")\n",
    "    print(f\"Mean Absolute Error: {mae}\")\n",
    "    print(f\"Accuracy within : {accuracy_within_tolerance * 100:.2f}%\\n\")\n"
   ]
  },
  {
   "cell_type": "markdown",
   "metadata": {},
   "source": [
    "<div style=\"\n",
    "        background-color: #cf77e6;\n",
    "        font-family: 'Arial', sans-serif;\n",
    "        color: #000;\n",
    "        font-weight:bold;\n",
    "        font-size: 20px;\n",
    "        text-align: left;\n",
    "        border-radius: 10px;\n",
    "        padding: 20px;\n",
    "        width:90%;\n",
    "        box-shadow: 0 4px 8px rgba(0, 0, 0, 0.1);\n",
    "    \">\n",
    "        Saving the Model and Other Components\n",
    "    </div>"
   ]
  },
  {
   "cell_type": "code",
   "execution_count": 27,
   "metadata": {},
   "outputs": [
    {
     "data": {
      "text/plain": [
       "['columns.pkl']"
      ]
     },
     "execution_count": 27,
     "metadata": {},
     "output_type": "execute_result"
    }
   ],
   "source": [
    "# Save the trained model, scaler, label encoder, and training columns\n",
    "joblib.dump(model, 'crime_model.pkl')\n",
    "joblib.dump(scaler, 'scaler.pkl')\n",
    "joblib.dump(label_encoder, 'label_encoder.pkl')\n",
    "joblib.dump(X.columns, 'columns.pkl')"
   ]
  }
 ],
 "metadata": {
  "kernelspec": {
   "display_name": "base",
   "language": "python",
   "name": "python3"
  },
  "language_info": {
   "codemirror_mode": {
    "name": "ipython",
    "version": 3
   },
   "file_extension": ".py",
   "mimetype": "text/x-python",
   "name": "python",
   "nbconvert_exporter": "python",
   "pygments_lexer": "ipython3",
   "version": "3.11.5"
  }
 },
 "nbformat": 4,
 "nbformat_minor": 2
}
